{
 "cells": [
  {
   "cell_type": "code",
   "execution_count": null,
   "id": "e33ef3db",
   "metadata": {},
   "outputs": [],
   "source": [
    "# Install PyTorch\n",
    "!pip install torch torchvision torchaudio -f https://download.pytorch.org/whl/lts/1.8/torch_lts.html"
   ]
  },
  {
   "cell_type": "code",
   "execution_count": null,
   "id": "4da915f9",
   "metadata": {},
   "outputs": [],
   "source": [
    "# Install transformers\n",
    "!pip install transformers\n",
    "!pip install accelerate"
   ]
  },
  {
   "cell_type": "code",
   "execution_count": null,
   "id": "200f2dde",
   "metadata": {},
   "outputs": [],
   "source": [
    "!pip install SentencePiece"
   ]
  },
  {
   "cell_type": "code",
   "execution_count": null,
   "id": "25456e34",
   "metadata": {},
   "outputs": [],
   "source": [
    "!pip install python-dotenv\n",
    "!pip install openai"
   ]
  },
  {
   "cell_type": "code",
   "execution_count": null,
   "id": "69ed9d75",
   "metadata": {},
   "outputs": [],
   "source": [
    "!pip install --upgrade langchain"
   ]
  },
  {
   "cell_type": "code",
   "execution_count": 34,
   "id": "d63ad3e9",
   "metadata": {},
   "outputs": [],
   "source": [
    "import os\n",
    "import requests\n",
    "\n",
    "from langchain.text_splitter import CharacterTextSplitter, RecursiveCharacterTextSplitter\n",
    "from langchain.chat_models import ChatOpenAI\n",
    "\n",
    "from transformers import PegasusForConditionalGeneration, PegasusTokenizer\n",
    "from dotenv import load_dotenv, find_dotenv\n",
    "\n",
    "from transformers import AutoTokenizer\n",
    "import transformers\n",
    "import torch\n",
    "\n",
    "from transformers import pipeline\n",
    "from transformers import AutoModel"
   ]
  },
  {
   "cell_type": "code",
   "execution_count": 27,
   "id": "34886c22",
   "metadata": {},
   "outputs": [],
   "source": [
    "_ = load_dotenv(find_dotenv()) # read local .env file\n",
    "openai.api_key = os.environ['OPENAI_API_KEY']\n",
    "huggingface_api_key = os.environ['HUGGINGFACE_API_KEY']"
   ]
  },
  {
   "cell_type": "markdown",
   "id": "e37e3fc4",
   "metadata": {},
   "source": [
    "Article\n",
    "https://www.coindesk.com/consensus-magazine/2023/08/31/bitcoin-etf-applications-are-bitcoins-best-marketing-strategy"
   ]
  },
  {
   "cell_type": "code",
   "execution_count": 8,
   "id": "7e996e1e",
   "metadata": {},
   "outputs": [],
   "source": [
    "article = \"\"\"\n",
    "The biggest financial houses in the U.S. are peddling Bitcoin's message and don’t even know it. You see, modern-day marketing isn't confined to catchy ads or snappy slogans. It's about how a concept is presented, the narrative that's woven and the influence it exerts on decision-making.\n",
    "Today, bitcoin (BTC) is more than just “magic internet money” or lines of code — it's actually reshaping the way we think about finance across the board.\n",
    "Tim Haldorsson is the CEO of crypto growth agency Lunar Strategy.\n",
    "At first, it might not seem like it but the recent buzz about bitcoin spot market exchange-traded fund (ETF) applications by heavyweight financial players like BlackRock, Fidelity Investments and VanEck is more than just noise — it's a strategic marketing move that's subtly rewriting the Bitcoin narrative.\n",
    "Isn’t it remarkable how Larry Fink, the CEO of BlackRock, did a complete U-turn on his stance on Bitcoin from years ago? In a recent interview, he pretty much said Bitcoin is on a path to fueling a revolution in finance.\n",
    "See also: The Real Reasons the Grayscale Bitcoin ETF Decision Matters | Opinion\n",
    "Let’s dive into why this ETF hoopla is a net positive for Bitcoin, regardless of whether these applications get the green light or face the red tape.\n",
    "Bitcoin’s billion-dollar cheerleaders\n",
    "When you and I hear the term \"bitcoin ETF,\" it might not trigger lightbulbs in our heads. But in a room full of financial bigwigs, that phrase carries a lot of weight. Why? Because associating it with exchange-traded funds is a gentle assertion that Bitcoin is knocking on the doors of conventional finance. With each ETF application, the leadership of major financial giants are signing up to do “word-of-mouth” marketing for Bitcoin. This canvassing goes beyond press releases, conferences and interviews, extending beyond the public eye to private – and much more influential – circles.\n",
    "This particular news cycle is significant because it injects Bitcoin with a dose of credibility, bolstering its legitimacy as an asset class in the eyes of seasoned financiers. After many years of denial and disrepute, the gifted underdog is finally bending the ears of the powers that be. Even the U.S. Securities and Exchange Commission (SEC) appears to have read the room and is treating bitcoin as a “special” class of digital asset.\n",
    "See also: Grayscale Victory Against SEC Clears Path for Spot Bitcoin ETF\n",
    "Once an obscured outlier, Bitcoin now finds itself aligned with one of the most revered investment vehicles, and Wall Street is definitely starting to notice.\n",
    "Greasing the wheels of momentum\n",
    "Let's talk about the power of trends, the kind that Google Search volumes and on-chain data reflect. In a world where trending topics dictate dinner table discussions, data analysts have their fingers on the pulse of society's curiosity. As financial powerhouses get more skin in the game, they’ve become de-facto marketing partners for Bitcoin. BlackRock alone controls $8.5 trillion in assets under their management. There’s no shortage of resources to drive publicity around their bid to secure approval for a bitcoin spot ETF.\n",
    "SingleQuoteLightGreenSingleQuoteLightGreen\n",
    "Bitcoin is more than just a niche curiosity, it's real “money”\n",
    "SingleQuoteLightGreenSingleQuoteLightGreen\n",
    "The impact is near immediate: a powerful mood shift is building on the momentum of conversations in mainstream media channels associating ETFs with bitcoin. The stats check out too. The price of bitcoin surged to a 13-month high within a couple weeks of BlackRock filing its ETF application.\n",
    "Why does this matter? Well, bitcoin's price is more than just numbers dancing on a screen. It's determined by an intricate choreography of supply, demand and market sentiment, and now on the verge of breaking into a trillion-dollar playing field, it rightfully deserves to be the heartbeat of a global conversation. The more discussions revolve around ETF applications, the more Bitcoin becomes a household name.\n",
    "All press is good press\n",
    "As the saying goes, “All press is good press.” When it comes to the subject of bitcoin ETF applications, that might just hold true. Publications, big and small, love to get their hands on stories that get people talking. But let's zoom out for a moment. Think about the bigger picture. The global economy is going through a pretty rough patch. Fiat currencies are buckling in the face of inflation, while bitcoin stands firm in the eye of this storm.\n",
    "Nowadays, with finance heavyweights such as Larry Fink talking up Bitcoin on the world stage, the masses are finally tuning in. Shortly after BlackRock filed its Bitcoin ETF application, the CEO had this to say: “Instead of investing in gold as a hedge against inflation, a hedge against the onerous problems of any one country, or the devaluation of your currency whatever country you’re in — let’s be clear, bitcoin is an international asset, it’s not based on any one currency and so it can represent an asset that people can play as an alternative.”\n",
    "Translation: bitcoin is a universal commodity and a great medium of exchange capable of facilitating the biggest financial vehicles in the world. That’s a sweet marketing pitch, if I do say so myself.\n",
    "The narrative of Bitcoin as a hedge against economic uncertainties is gradually taking shape again. This is starting to dawn on the largest market makers in the world, and in turn they are seeking to use ETFs as gateways for entering the crypto playing field.\n",
    "Shifting regulatory dynamics\n",
    "Some critics point to Canada and Europe's lukewarm response to bitcoin ETFs. But it’s not hard to imagine that things would pan out differently with a fully regulated spot market bitcoin ETF in the United States. It’s no secret that the SEC is cracking down heavily on cryptocurrencies, but any keen observer would’ve noticed a common thread by now. Regulators have focused their ire on altcoins for the most part. While stablecoins have also faced scrutiny, bitcoin remains the most likely digital asset to be approved as is for integration into regulated systems.\n",
    "There is already a healthy roster of financial behemoths with treasuries worth hundreds of billions waiting in line for a bitcoin ETF application approval. The gravitational pull of the U.S. market cannot be underestimated, and the potential involvement of heavyweight players amplifies this influence.\n",
    "STORY CONTINUES BELOW\n",
    "Recommended for you:\n",
    "Canto DEX Trading Volume Soars 200% Ahead of Proposals to Upgrade Network\n",
    "Why Selling Some Bitcoin at a Loss Can Maximize Your Hodling Potential\n",
    "Genesis Lender Group Opposes ‘Wholly Insufficient’ DCG Deal\n",
    "See also: Grayscale ETF Court Rout Puts SEC in Will-They, Won't-They Position\n",
    "This is another clear narrative shift, bitcoin isn't just digital gold, it's an equal player in a global financial game. As regulation rapidly develops in the United States, this narrative could play a pivotal role in tipping the scales of public (and institutional-level) sentiment in favor of bitcoin as a viable medium of exchange.\n",
    "The conversation around bitcoin ETF applications isn't just about the expansion of financial regulations to include cryptocurrency; it's a strategic marketing move that's transforming Bitcoin's narrative. It's reminding the world that Bitcoin is more than just a niche curiosity, it's real “money” as far as the definition goes.\n",
    "\"\"\""
   ]
  },
  {
   "cell_type": "markdown",
   "id": "c085b958",
   "metadata": {},
   "source": [
    "## LangChain"
   ]
  },
  {
   "cell_type": "code",
   "execution_count": 11,
   "id": "b40e306b",
   "metadata": {},
   "outputs": [
    {
     "name": "stdout",
     "output_type": "stream",
     "text": [
      "Summary built by LangChain model:\n",
      "\n",
      "\n",
      "The potential approval of a fully regulated spot market bitcoin ETF in the United States is gaining attention \n",
      "from major financial institutions, boosting Bitcoin's credibility and legitimacy as an alternative investment option.\n",
      "This strategic marketing move is transforming Bitcoin's narrative and reminding the world that it is more than \n",
      "just a niche curiosity, but a viable medium of exchange. Despite lukewarm responses to bitcoin ETFs in Canada and \n",
      "Europe, the involvement of heavyweight players waiting in line for approval amplifies the influence of the U.S. market. \n",
      "Regulators have focused their scrutiny on altcoins and stablecoins, making bitcoin the most likely digital asset \n",
      "to be approved for integration into regulated systems. In the face of a struggling global economy and inflation, \n",
      "Bitcoin remains a stable investment option and could play a pivotal role in tipping the scales of public and \n",
      "institutional-level sentiment in favor of its adoption.\n",
      "\n"
     ]
    }
   ],
   "source": [
    "text_splitter = CharacterTextSplitter(chunk_size=1000, chunk_overlap=0)\n",
    "pages = text_splitter.split_text(article)\n",
    "\n",
    "text_splitter = RecursiveCharacterTextSplitter(chunk_size=1000, chunk_overlap=100)\n",
    "texts = text_splitter.create_documents(pages)\n",
    "\n",
    "llm = ChatOpenAI(temperature=0, model_name=\"gpt-3.5-turbo-0301\")\n",
    "chain = load_summarize_chain(llm, chain_type=\"refine\")\n",
    "\n",
    "summary_langchain = chain.run(texts)\n",
    "\n",
    "print(\"Summary built by LangChain model:\\n\")\n",
    "print(summary_langchain)"
   ]
  },
  {
   "cell_type": "markdown",
   "id": "8d559a1a",
   "metadata": {},
   "source": [
    "## Claude AI"
   ]
  },
  {
   "cell_type": "code",
   "execution_count": 12,
   "id": "4a9263f8",
   "metadata": {},
   "outputs": [
    {
     "name": "stdout",
     "output_type": "stream",
     "text": [
      "Summary built by Claude AI model:\n",
      "\n",
      "\n",
      "Here is a summary of the key points from the article:\n",
      "\n",
      "- Major financial institutions like BlackRock and Fidelity applying for bitcoin ETFs lends credibility to bitcoin as an asset class. \n",
      "\n",
      "- Bitcoin is now being associated with reputable ETFs, signaling its acceptance into mainstream finance.\n",
      "\n",
      "- Top executives like Larry Fink doing a 180 on their bitcoin stance shows changing attitudes.\n",
      "\n",
      "- Bitcoin ETF news boosts bitcoin's price and keeps it in headlines, fueling positive momentum.\n",
      "\n",
      "- As major players get more invested in bitcoin, they become de facto marketing partners.\n",
      "\n",
      "- All this ETF publicity portrays bitcoin as a legitimate asset, not just an obscure outlier.\n",
      "\n",
      "- Bitcoin is now seen as an inflation hedge like gold and a universal asset by major institutions.\n",
      "\n",
      "- Regulators are still skeptical of altcoins but warming up to bitcoin as an approved digital asset.\n",
      "\n",
      "- Potential US bitcoin ETFs with big backers would amplify bitcoin's stature and adoption.\n",
      "\n",
      "- The ETF narrative signals bitcoin is going mainstream, no longer just \"magic internet money.\"\n",
      "\n",
      "In summary, the bitcoin ETF storyline shows major finance now sees bitcoin as a serious asset and this mainstream acceptance is changing bitcoin's image.\n",
      "\n"
     ]
    }
   ],
   "source": [
    "summary_claude_ai = \"\"\"\n",
    "Here is a summary of the key points from the article:\n",
    "\n",
    "- Major financial institutions like BlackRock and Fidelity applying for bitcoin ETFs lends credibility to bitcoin as an asset class. \n",
    "\n",
    "- Bitcoin is now being associated with reputable ETFs, signaling its acceptance into mainstream finance.\n",
    "\n",
    "- Top executives like Larry Fink doing a 180 on their bitcoin stance shows changing attitudes.\n",
    "\n",
    "- Bitcoin ETF news boosts bitcoin's price and keeps it in headlines, fueling positive momentum.\n",
    "\n",
    "- As major players get more invested in bitcoin, they become de facto marketing partners.\n",
    "\n",
    "- All this ETF publicity portrays bitcoin as a legitimate asset, not just an obscure outlier.\n",
    "\n",
    "- Bitcoin is now seen as an inflation hedge like gold and a universal asset by major institutions.\n",
    "\n",
    "- Regulators are still skeptical of altcoins but warming up to bitcoin as an approved digital asset.\n",
    "\n",
    "- Potential US bitcoin ETFs with big backers would amplify bitcoin's stature and adoption.\n",
    "\n",
    "- The ETF narrative signals bitcoin is going mainstream, no longer just \"magic internet money.\"\n",
    "\n",
    "In summary, the bitcoin ETF storyline shows major finance now sees bitcoin as a serious asset and this mainstream acceptance is changing bitcoin's image.\n",
    "\"\"\"\n",
    "\n",
    "print(\"Summary built by Claude AI model:\\n\")\n",
    "print(summary_claude_ai)"
   ]
  },
  {
   "cell_type": "markdown",
   "id": "622dcc1e",
   "metadata": {},
   "source": [
    "## BART Large"
   ]
  },
  {
   "cell_type": "code",
   "execution_count": 31,
   "id": "d16a425f",
   "metadata": {},
   "outputs": [
    {
     "name": "stdout",
     "output_type": "stream",
     "text": [
      "Summary built by BART Large model:\n",
      "\n",
      "The biggest financial houses in the U.S. are peddling Bitcoin's message and don't even know it. With each ETF application, the leadership of major financial giants are signing up to do “word-of-mouth” marketing for Bitcoin. The news cycle is significant because it injects Bitcoin with a dose of credibility.\n"
     ]
    }
   ],
   "source": [
    "API_URL = \"https://api-inference.huggingface.co/models/facebook/bart-large-cnn\"\n",
    "headers = {\"Authorization\": f\"Bearer {huggingface_api_key}\"}\n",
    "\n",
    "def query(payload):\n",
    "    response = requests.post(API_URL, headers=headers, json=payload)\n",
    "    return response.json()\n",
    "\n",
    "def summarize(text):\n",
    "    if text is None: return None\n",
    "    output = query({\n",
    "        \"inputs\": text[:2048],\n",
    "        \"max_length\":300,\n",
    "        \"min_length\":30,\n",
    "        \"do_sample\":False\n",
    "    })\n",
    "    return output[0]['summary_text']\n",
    "\n",
    "summary_bart_large = summarize(article)\n",
    "print(\"Summary built by BART Large model:\\n\")\n",
    "print(summary_bart_large)"
   ]
  },
  {
   "cell_type": "markdown",
   "id": "6974ce6c",
   "metadata": {},
   "source": [
    "## Pegasus"
   ]
  },
  {
   "cell_type": "code",
   "execution_count": 14,
   "id": "14f94d24",
   "metadata": {},
   "outputs": [
    {
     "data": {
      "application/vnd.jupyter.widget-view+json": {
       "model_id": "e0b23a21b81b41d19d0520ce43bea07d",
       "version_major": 2,
       "version_minor": 0
      },
      "text/plain": [
       "Downloading (…)ve/main/spiece.model:   0%|          | 0.00/1.91M [00:00<?, ?B/s]"
      ]
     },
     "metadata": {},
     "output_type": "display_data"
    },
    {
     "name": "stderr",
     "output_type": "stream",
     "text": [
      "D:\\projects\\venvs\\venv310_basic\\lib\\site-packages\\huggingface_hub\\file_download.py:133: UserWarning: `huggingface_hub` cache-system uses symlinks by default to efficiently store duplicated files but your machine does not support them in C:\\Users\\User\\.cache\\huggingface\\hub. Caching files will still work but in a degraded version that might require more space on your disk. This warning can be disabled by setting the `HF_HUB_DISABLE_SYMLINKS_WARNING` environment variable. For more details, see https://huggingface.co/docs/huggingface_hub/how-to-cache#limitations.\n",
      "To support symlinks on Windows, you either need to activate Developer Mode or to run Python as an administrator. In order to see activate developer mode, see this article: https://docs.microsoft.com/en-us/windows/apps/get-started/enable-your-device-for-development\n",
      "  warnings.warn(message)\n"
     ]
    },
    {
     "data": {
      "application/vnd.jupyter.widget-view+json": {
       "model_id": "ed48aae679d44c1eb227f180f82e4e5e",
       "version_major": 2,
       "version_minor": 0
      },
      "text/plain": [
       "Downloading (…)cial_tokens_map.json:   0%|          | 0.00/65.0 [00:00<?, ?B/s]"
      ]
     },
     "metadata": {},
     "output_type": "display_data"
    },
    {
     "data": {
      "application/vnd.jupyter.widget-view+json": {
       "model_id": "f13fa9f39020422e9b9bfe34b55dbe82",
       "version_major": 2,
       "version_minor": 0
      },
      "text/plain": [
       "Downloading (…)okenizer_config.json:   0%|          | 0.00/87.0 [00:00<?, ?B/s]"
      ]
     },
     "metadata": {},
     "output_type": "display_data"
    },
    {
     "data": {
      "application/vnd.jupyter.widget-view+json": {
       "model_id": "94a75487abb740efa6672c4b083498d7",
       "version_major": 2,
       "version_minor": 0
      },
      "text/plain": [
       "Downloading (…)lve/main/config.json:   0%|          | 0.00/1.39k [00:00<?, ?B/s]"
      ]
     },
     "metadata": {},
     "output_type": "display_data"
    },
    {
     "data": {
      "application/vnd.jupyter.widget-view+json": {
       "model_id": "f253afc0b2c7454698667b6981a25ee5",
       "version_major": 2,
       "version_minor": 0
      },
      "text/plain": [
       "Downloading pytorch_model.bin:   0%|          | 0.00/2.28G [00:00<?, ?B/s]"
      ]
     },
     "metadata": {},
     "output_type": "display_data"
    },
    {
     "name": "stderr",
     "output_type": "stream",
     "text": [
      "Some weights of PegasusForConditionalGeneration were not initialized from the model checkpoint at google/pegasus-xsum and are newly initialized: ['model.encoder.embed_positions.weight', 'model.decoder.embed_positions.weight']\n",
      "You should probably TRAIN this model on a down-stream task to be able to use it for predictions and inference.\n"
     ]
    },
    {
     "data": {
      "application/vnd.jupyter.widget-view+json": {
       "model_id": "7f53031e667c4688881ebdef46287f8b",
       "version_major": 2,
       "version_minor": 0
      },
      "text/plain": [
       "Downloading (…)neration_config.json:   0%|          | 0.00/259 [00:00<?, ?B/s]"
      ]
     },
     "metadata": {},
     "output_type": "display_data"
    }
   ],
   "source": [
    "# Load tokenizer\n",
    "tokenizer = PegasusTokenizer.from_pretrained(\"google/pegasus-xsum\")\n",
    "# Load model\n",
    "model = PegasusForConditionalGeneration.from_pretrained(\"google/pegasus-xsum\")\n",
    "# Create tokens - number representation of our text\n",
    "tokens = tokenizer(article, truncation=True, padding=\"longest\", return_tensors=\"pt\")\n",
    "summary_encoded = model.generate(**tokens)\n"
   ]
  },
  {
   "cell_type": "code",
   "execution_count": 15,
   "id": "b7a008bb",
   "metadata": {},
   "outputs": [
    {
     "data": {
      "text/plain": [
       "tensor([   0,  240,  119,  123,  261,  174, 2536, 1090,  112,  109,  990,  115,\n",
       "         909,  899,  108,  119,  382,  133, 2987,  364,  107,    1])"
      ]
     },
     "execution_count": 15,
     "metadata": {},
     "output_type": "execute_result"
    }
   ],
   "source": [
    "summary_encoded[0]"
   ]
  },
  {
   "cell_type": "code",
   "execution_count": 16,
   "id": "4085e2d3",
   "metadata": {},
   "outputs": [
    {
     "name": "stdout",
     "output_type": "stream",
     "text": [
      "Summary built by BART Large model:\n",
      "\n",
      "<pad>If you’ve been paying attention to the news in recent weeks, you might have missed something.</s>\n"
     ]
    }
   ],
   "source": [
    "# Decode summary\n",
    "summary_pegasus = tokenizer.decode(summary_encoded[0])\n",
    "#summary_pegasus = \"\"\"<pad>If you’ve been paying attention to the news in recent weeks, you might have missed something.</s>\"\"\"\n",
    "print(\"Summary built by BART Large model:\\n\")\n",
    "print(summary_pegasus)"
   ]
  },
  {
   "cell_type": "markdown",
   "id": "93d28ce0",
   "metadata": {},
   "source": [
    "## T5"
   ]
  },
  {
   "cell_type": "code",
   "execution_count": 44,
   "id": "5e94abea",
   "metadata": {},
   "outputs": [],
   "source": [
    "prefix = \"summarize: \"\n",
    "\n",
    "model = \"t5-small\" # [\"t5-small\", \"t5-base\", \"t5-larg\", \"t5-3b\", \"t5-11b\"] \n",
    "tokenizer = AutoTokenizer.from_pretrained(model, token=huggingface_api_key)\n",
    "\n",
    "def get_hf_response(model, prompt: str, task: str = \"summarization\", prefix: str = \"\") -> None:\n",
    "    if prefix:\n",
    "        prompt = f\"{prefix}{prompt}\"\n",
    "        \n",
    "    hf_pipeline = pipeline(\n",
    "        task,  # LLM task\n",
    "        model=model,\n",
    "        torch_dtype=torch.float32,\n",
    "        device_map=\"auto\",\n",
    "    )\n",
    "    sequences = hf_pipeline(\n",
    "        prompt,\n",
    "        do_sample=True,\n",
    "        top_k=10,\n",
    "        num_return_sequences=1,\n",
    "        eos_token_id=tokenizer.eos_token_id,\n",
    "        max_length=1024,\n",
    "#         max_new_tokens=200,\n",
    "    )\n",
    "    return sequences"
   ]
  },
  {
   "cell_type": "code",
   "execution_count": 45,
   "id": "db148e69",
   "metadata": {},
   "outputs": [],
   "source": [
    "# TODO: finetuning/train process to produce better and adapive result using more context"
   ]
  },
  {
   "cell_type": "code",
   "execution_count": 50,
   "id": "68ae9415",
   "metadata": {},
   "outputs": [
    {
     "name": "stderr",
     "output_type": "stream",
     "text": [
      "Token indices sequence length is longer than the specified maximum sequence length for this model (1728 > 512). Running this sequence through the model will result in indexing errors\n"
     ]
    }
   ],
   "source": [
    "summary_t5_small = get_hf_response(model, prompt=article, task=\"summarization\", prefix=prefix)"
   ]
  },
  {
   "cell_type": "code",
   "execution_count": 49,
   "id": "d22d3fc5",
   "metadata": {},
   "outputs": [
    {
     "name": "stdout",
     "output_type": "stream",
     "text": [
      "Summary built by T5-small model:\n",
      "\n",
      "\n",
      "bitcoin is more than just a niche curiosity, it's real “money” as far as the definition goes . a powerful mood shift is building on the momentum of conversations in mainstream media channels associating ETFs with bitcoin . the global economy is going through a pretty rough patch .\"\n",
      "\n"
     ]
    }
   ],
   "source": [
    "print(\"Summary built by T5-small model:\\n\")\n",
    "print(summary_t5_small[0]['summary_text'])"
   ]
  },
  {
   "cell_type": "code",
   "execution_count": null,
   "id": "6fcde11e",
   "metadata": {},
   "outputs": [],
   "source": [
    "# model = \"t5-11b\" # [\"t5-small\", \"t5-base\", \"t5-larg\", \"t5-3b\", \"t5-11b\"] \n",
    "# model = AutoModel.from_pretrained(model, token=huggingface_api_key)\n",
    "\n",
    "# summary_t5_11b = get_hf_response(model, article, prefix=prefix)\n",
    "\n",
    "# print(\"Summary built by T5-11b model:\\n\")\n",
    "# print(summary_t5_11b)"
   ]
  },
  {
   "cell_type": "markdown",
   "id": "22cda7e9",
   "metadata": {},
   "source": [
    "## LLaMa 2"
   ]
  },
  {
   "cell_type": "code",
   "execution_count": 52,
   "id": "b342e9da",
   "metadata": {},
   "outputs": [
    {
     "data": {
      "application/vnd.jupyter.widget-view+json": {
       "model_id": "3a6558b6f2fd4eb1a2316ed2be6d0118",
       "version_major": 2,
       "version_minor": 0
      },
      "text/plain": [
       "Loading checkpoint shards:   0%|          | 0/2 [00:00<?, ?it/s]"
      ]
     },
     "metadata": {},
     "output_type": "display_data"
    },
    {
     "name": "stderr",
     "output_type": "stream",
     "text": [
      "D:\\projects\\venvs\\venv310_basic\\lib\\site-packages\\transformers\\generation\\utils.py:1268: UserWarning: Input length of input_ids is 1890, but `max_length` is set to 1024. This can lead to unexpected behavior. You should consider increasing `max_new_tokens`.\n",
      "  warnings.warn(\n"
     ]
    },
    {
     "name": "stdout",
     "output_type": "stream",
     "text": [
      "Summary built by LLaMa 2 model:\n",
      "\n",
      "[{'generated_text': 'Please summarize the following text: \\nThe biggest financial houses in the U.S. are peddling Bitcoin\\'s message and don’t even know it. You see, modern-day marketing isn\\'t confined to catchy ads or snappy slogans. It\\'s about how a concept is presented, the narrative that\\'s woven and the influence it exerts on decision-making.\\nToday, bitcoin (BTC) is more than just “magic internet money” or lines of code — it\\'s actually reshaping the way we think about finance across the board.\\nTim Haldorsson is the CEO of crypto growth agency Lunar Strategy.\\nAt first, it might not seem like it but the recent buzz about bitcoin spot market exchange-traded fund (ETF) applications by heavyweight financial players like BlackRock, Fidelity Investments and VanEck is more than just noise — it\\'s a strategic marketing move that\\'s subtly rewriting the Bitcoin narrative.\\nIsn’t it remarkable how Larry Fink, the CEO of BlackRock, did a complete U-turn on his stance on Bitcoin from years ago? In a recent interview, he pretty much said Bitcoin is on a path to fueling a revolution in finance.\\nSee also: The Real Reasons the Grayscale Bitcoin ETF Decision Matters | Opinion\\nLet’s dive into why this ETF hoopla is a net positive for Bitcoin, regardless of whether these applications get the green light or face the red tape.\\nBitcoin’s billion-dollar cheerleaders\\nWhen you and I hear the term \"bitcoin ETF,\" it might not trigger lightbulbs in our heads. But in a room full of financial bigwigs, that phrase carries a lot of weight. Why? Because associating it with exchange-traded funds is a gentle assertion that Bitcoin is knocking on the doors of conventional finance. With each ETF application, the leadership of major financial giants are signing up to do “word-of-mouth” marketing for Bitcoin. This canvassing goes beyond press releases, conferences and interviews, extending beyond the public eye to private – and much more influential – circles.\\nThis particular news cycle is significant because it injects Bitcoin with a dose of credibility, bolstering its legitimacy as an asset class in the eyes of seasoned financiers. After many years of denial and disrepute, the gifted underdog is finally bending the ears of the powers that be. Even the U.S. Securities and Exchange Commission (SEC) appears to have read the room and is treating bitcoin as a “special” class of digital asset.\\nSee also: Grayscale Victory Against SEC Clears Path for Spot Bitcoin ETF\\nOnce an obscured outlier, Bitcoin now finds itself aligned with one of the most revered investment vehicles, and Wall Street is definitely starting to notice.\\nGreasing the wheels of momentum\\nLet\\'s talk about the power of trends, the kind that Google Search volumes and on-chain data reflect. In a world where trending topics dictate dinner table discussions, data analysts have their fingers on the pulse of society\\'s curiosity. As financial powerhouses get more skin in the game, they’ve become de-facto marketing partners for Bitcoin. BlackRock alone controls $8.5 trillion in assets under their management. There’s no shortage of resources to drive publicity around their bid to secure approval for a bitcoin spot ETF.\\nSingleQuoteLightGreenSingleQuoteLightGreen\\nBitcoin is more than just a niche curiosity, it\\'s real “money”\\nSingleQuoteLightGreenSingleQuoteLightGreen\\nThe impact is near immediate: a powerful mood shift is building on the momentum of conversations in mainstream media channels associating ETFs with bitcoin. The stats check out too. The price of bitcoin surged to a 13-month high within a couple weeks of BlackRock filing its ETF application.\\nWhy does this matter? Well, bitcoin\\'s price is more than just numbers dancing on a screen. It\\'s determined by an intricate choreography of supply, demand and market sentiment, and now on the verge of breaking into a trillion-dollar playing field, it rightfully deserves to be the heartbeat of a global conversation. The more discussions revolve around ETF applications, the more Bitcoin becomes a household name.\\nAll press is good press\\nAs the saying goes, “All press is good press.” When it comes to the subject of bitcoin ETF applications, that might just hold true. Publications, big and small, love to get their hands on stories that get people talking. But let\\'s zoom out for a moment. Think about the bigger picture. The global economy is going through a pretty rough patch. Fiat currencies are buckling in the face of inflation, while bitcoin stands firm in the eye of this storm.\\nNowadays, with finance heavyweights such as Larry Fink talking up Bitcoin on the world stage, the masses are finally tuning in. Shortly after BlackRock filed its Bitcoin ETF application, the CEO had this to say: “Instead of investing in gold as a hedge against inflation, a hedge against the onerous problems of any one country, or the devaluation of your currency whatever country you’re in — let’s be clear, bitcoin is an international asset, it’s not based on any one currency and so it can represent an asset that people can play as an alternative.”\\nTranslation: bitcoin is a universal commodity and a great medium of exchange capable of facilitating the biggest financial vehicles in the world. That’s a sweet marketing pitch, if I do say so myself.\\nThe narrative of Bitcoin as a hedge against economic uncertainties is gradually taking shape again. This is starting to dawn on the largest market makers in the world, and in turn they are seeking to use ETFs as gateways for entering the crypto playing field.\\nShifting regulatory dynamics\\nSome critics point to Canada and Europe\\'s lukewarm response to bitcoin ETFs. But it’s not hard to imagine that things would pan out differently with a fully regulated spot market bitcoin ETF in the United States. It’s no secret that the SEC is cracking down heavily on cryptocurrencies, but any keen observer would’ve noticed a common thread by now. Regulators have focused their ire on altcoins for the most part. While stablecoins have also faced scrutiny, bitcoin remains the most likely digital asset to be approved as is for integration into regulated systems.\\nThere is already a healthy roster of financial behemoths with treasuries worth hundreds of billions waiting in line for a bitcoin ETF application approval. The gravitational pull of the U.S. market cannot be underestimated, and the potential involvement of heavyweight players amplifies this influence.\\nSTORY CONTINUES BELOW\\nRecommended for you:\\nCanto DEX Trading Volume Soars 200% Ahead of Proposals to Upgrade Network\\nWhy Selling Some Bitcoin at a Loss Can Maximize Your Hodling Potential\\nGenesis Lender Group Opposes ‘Wholly Insufficient’ DCG Deal\\nSee also: Grayscale ETF Court Rout Puts SEC in Will-They, Won\\'t-They Position\\nThis is another clear narrative shift, bitcoin isn\\'t just digital gold, it\\'s an equal player in a global financial game. As regulation rapidly develops in the United States, this narrative could play a pivotal role in tipping the scales of public (and institutional-level) sentiment in favor of bitcoin as a viable medium of exchange.\\nThe conversation around bitcoin ETF applications isn\\'t just about the expansion of financial regulations to include cryptocurrency; it\\'s a strategic marketing move that\\'s transforming Bitcoin\\'s narrative. It\\'s reminding the world that Bitcoin is more than just a niche curiosity, it\\'s real “money” as far as the definition goes.\\nThe'}]\n"
     ]
    }
   ],
   "source": [
    "prefix = \"Please summarize the following text: \"\n",
    "\n",
    "model = \"meta-llama/Llama-2-7b-chat-hf\"\n",
    "tokenizer = AutoTokenizer.from_pretrained(model, token=huggingface_api_key)\n",
    "\n",
    "summary_llama2 = get_hf_response(model, prompt=article, task=\"text-generation\", prefix=prefix)\n",
    "\n",
    "print(\"Summary built by LLaMa 2 model:\\n\")\n",
    "print(summary_llama2)"
   ]
  },
  {
   "cell_type": "code",
   "execution_count": null,
   "id": "00296610",
   "metadata": {},
   "outputs": [],
   "source": []
  }
 ],
 "metadata": {
  "kernelspec": {
   "display_name": "Python 3 (ipykernel)",
   "language": "python",
   "name": "python3"
  },
  "language_info": {
   "codemirror_mode": {
    "name": "ipython",
    "version": 3
   },
   "file_extension": ".py",
   "mimetype": "text/x-python",
   "name": "python",
   "nbconvert_exporter": "python",
   "pygments_lexer": "ipython3",
   "version": "3.10.6"
  }
 },
 "nbformat": 4,
 "nbformat_minor": 5
}
